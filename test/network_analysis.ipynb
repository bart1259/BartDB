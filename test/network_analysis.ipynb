{
 "cells": [
  {
   "cell_type": "code",
   "execution_count": null,
   "metadata": {},
   "outputs": [],
   "source": [
    "%pip install numpy matplotlib"
   ]
  },
  {
   "cell_type": "code",
   "execution_count": null,
   "metadata": {},
   "outputs": [],
   "source": [
    "import matplotlib\n",
    "matplotlib.rcParams['savefig.dpi'] = 300"
   ]
  },
  {
   "cell_type": "code",
   "execution_count": null,
   "metadata": {},
   "outputs": [],
   "source": [
    "from glob import glob\n",
    "all_network_files = glob(\"../results/network_stress**\")"
   ]
  },
  {
   "cell_type": "code",
   "execution_count": null,
   "metadata": {},
   "outputs": [],
   "source": [
    "data = {}\n",
    "\n",
    "for network_file in all_network_files:\n",
    "    parts = network_file.split(\"_\")\n",
    "    client_count = int(parts[-1].split(\".\")[0])\n",
    "    assert (client_count == 5 or client_count == 10 or client_count == 20 or client_count == 50 or client_count == 100)\n",
    "    \n",
    "    with open(network_file, 'r') as f:\n",
    "        s = f.read();\n",
    "        s = s.split(\"\\n\")[3:]\n",
    "        s = [int(a.split(\"/\")[0]) for a in s if a != \"\"]\n",
    "        average_throughput = sum(s) / len(s)\n",
    "\n",
    "        if client_count not in data:\n",
    "            data[client_count] = []\n",
    "\n",
    "        data[client_count].append(average_throughput)"
   ]
  },
  {
   "cell_type": "code",
   "execution_count": null,
   "metadata": {},
   "outputs": [],
   "source": [
    "for k,v in data.items():\n",
    "    data[k] = sum(v) / len(v)\n",
    "\n",
    "data"
   ]
  },
  {
   "cell_type": "code",
   "execution_count": null,
   "metadata": {},
   "outputs": [],
   "source": [
    "import matplotlib.pyplot as plt\n",
    "\n",
    "plt.scatter(data.keys(), data.values())\n",
    "plt.xlabel(\"Connected Clients\")\n",
    "plt.ylabel(\"Throughput [Requests / Second]\")\n",
    "plt.title(\"Request Throughput vs. Connected Clients\")"
   ]
  },
  {
   "cell_type": "code",
   "execution_count": null,
   "metadata": {},
   "outputs": [],
   "source": [
    "for k,v in data.items():\n",
    "    data[k] = 10_000 / v\n",
    "\n",
    "data"
   ]
  },
  {
   "cell_type": "code",
   "execution_count": null,
   "metadata": {},
   "outputs": [],
   "source": [
    "import matplotlib.pyplot as plt\n",
    "\n",
    "plt.scatter(data.keys(), data.values())\n",
    "plt.xlabel(\"Connected Clients\")\n",
    "plt.ylabel(\"Time to complete 10k requests [Seconds]\")\n",
    "plt.title(\"Time to complete 10k requests vs. Connected Clients\")"
   ]
  },
  {
   "cell_type": "code",
   "execution_count": null,
   "metadata": {},
   "outputs": [],
   "source": []
  }
 ],
 "metadata": {
  "kernelspec": {
   "display_name": "Python 3",
   "language": "python",
   "name": "python3"
  },
  "language_info": {
   "codemirror_mode": {
    "name": "ipython",
    "version": 3
   },
   "file_extension": ".py",
   "mimetype": "text/x-python",
   "name": "python",
   "nbconvert_exporter": "python",
   "pygments_lexer": "ipython3",
   "version": "3.10.12"
  }
 },
 "nbformat": 4,
 "nbformat_minor": 2
}
