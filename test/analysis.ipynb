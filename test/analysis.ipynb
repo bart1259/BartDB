{
 "cells": [
  {
   "cell_type": "code",
   "execution_count": null,
   "metadata": {},
   "outputs": [],
   "source": [
    "%pip install numpy matplotlib"
   ]
  },
  {
   "cell_type": "code",
   "execution_count": null,
   "metadata": {},
   "outputs": [],
   "source": [
    "import matplotlib\n",
    "matplotlib.rcParams['savefig.dpi'] = 300"
   ]
  },
  {
   "cell_type": "code",
   "execution_count": null,
   "metadata": {},
   "outputs": [],
   "source": [
    "from glob import glob\n",
    "\n",
    "read_files = glob(\"../results/read*.txt\")\n",
    "\n",
    "data = []\n",
    "for file in read_files:\n",
    "    with open(file) as f: \n",
    "        s = f.read()\n",
    "        values = list(map(lambda x: float(x), s.split(\"\\n\")[3:-2]))\n",
    "        data.append(values)\n",
    "\n",
    "import numpy as np\n",
    "import matplotlib.pyplot as plt\n",
    "\n",
    "data = np.array(data)\n",
    "plt.stem(data.mean(axis=0))\n",
    "plt.title(\"Time to Perform Read After Cache Clear\")\n",
    "plt.ylabel(\"Time [ms]\")\n",
    "plt.xlabel(\"Read index after cache clear\")"
   ]
  },
  {
   "cell_type": "code",
   "execution_count": null,
   "metadata": {},
   "outputs": [],
   "source": [
    "BUCKETS = 6\n",
    "values = []\n",
    "\n",
    "BUCKET_SPAN = data.shape[-1] // BUCKETS\n",
    "for i in range(0, data.shape[-1], BUCKET_SPAN):\n",
    "    values.append((data[:,i:i+BUCKET_SPAN]).flatten())\n",
    "\n",
    "plt.boxplot(values, labels=[\"0-9\", \"10-19\", \"20-29\", \"30-39\", \"40-49\", \"50-59\"])\n",
    "plt.title(\"Read Time Distributions by Duration Since Cache Clear\")\n",
    "plt.xlabel(\"Read index after cache clear\")\n",
    "plt.ylabel(\"Time [ms]\")"
   ]
  },
  {
   "cell_type": "code",
   "execution_count": null,
   "metadata": {},
   "outputs": [],
   "source": [
    "np.array(values).mean(axis=-1)"
   ]
  },
  {
   "cell_type": "code",
   "execution_count": null,
   "metadata": {},
   "outputs": [],
   "source": [
    "from glob import glob\n",
    "\n",
    "put_files = glob(\"../results/put*.txt\")\n",
    "\n",
    "data = []\n",
    "for file in put_files:\n",
    "    with open(file) as f: \n",
    "        s = f.read()\n",
    "        values = list(map(lambda x: float(x), s.split(\"\\n\")[3:-2]))\n",
    "        data.append(values)\n",
    "\n",
    "import numpy as np\n",
    "import matplotlib.pyplot as plt\n",
    "\n",
    "data = np.array(data)\n",
    "plt.stem(data.mean(axis=0))\n",
    "plt.title(\"Time to Perform Write After Cache Clear\")\n",
    "plt.ylabel(\"Time [ms]\")\n",
    "plt.xlabel(\"Write index after cache clear\")"
   ]
  },
  {
   "cell_type": "code",
   "execution_count": null,
   "metadata": {},
   "outputs": [],
   "source": [
    "BUCKETS = 6\n",
    "values = []\n",
    "\n",
    "BUCKET_SPAN = data.shape[-1] // BUCKETS\n",
    "for i in range(0, data.shape[-1], BUCKET_SPAN):\n",
    "    values.append((data[:,i:i+BUCKET_SPAN]).flatten())\n",
    "\n",
    "plt.boxplot(values, labels=[\"0-9\", \"10-19\", \"20-29\", \"30-39\", \"40-49\", \"50-59\"])\n",
    "plt.title(\"Write Time Distributions by Duration Since Cache Clear\")\n",
    "plt.xlabel(\"Write index after cache clear\")\n",
    "plt.ylabel(\"Time [ms]\")"
   ]
  },
  {
   "cell_type": "code",
   "execution_count": null,
   "metadata": {},
   "outputs": [],
   "source": [
    "np.array(values).mean(axis=-1)"
   ]
  },
  {
   "cell_type": "code",
   "execution_count": null,
   "metadata": {},
   "outputs": [],
   "source": []
  }
 ],
 "metadata": {
  "kernelspec": {
   "display_name": "Python 3",
   "language": "python",
   "name": "python3"
  },
  "language_info": {
   "codemirror_mode": {
    "name": "ipython",
    "version": 3
   },
   "file_extension": ".py",
   "mimetype": "text/x-python",
   "name": "python",
   "nbconvert_exporter": "python",
   "pygments_lexer": "ipython3",
   "version": "3.10.12"
  }
 },
 "nbformat": 4,
 "nbformat_minor": 2
}
