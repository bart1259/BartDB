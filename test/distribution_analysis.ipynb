{
 "cells": [
  {
   "cell_type": "code",
   "execution_count": null,
   "metadata": {},
   "outputs": [],
   "source": [
    "%pip install numpy matplotlib"
   ]
  },
  {
   "cell_type": "code",
   "execution_count": null,
   "metadata": {},
   "outputs": [],
   "source": [
    "import matplotlib\n",
    "matplotlib.rcParams['savefig.dpi'] = 300"
   ]
  },
  {
   "cell_type": "code",
   "execution_count": null,
   "metadata": {},
   "outputs": [],
   "source": [
    "from glob import glob\n",
    "all_network_files = glob(\"../results/distributed_stress_write**\")\n",
    "len(all_network_files)"
   ]
  },
  {
   "cell_type": "code",
   "execution_count": null,
   "metadata": {},
   "outputs": [],
   "source": [
    "import numpy as np\n",
    "\n",
    "throughputs = np.zeros((5,5))\n",
    "\n",
    "for network_file in all_network_files:\n",
    "    parts = network_file.split(\"_\")\n",
    "    server_count = int(parts[-2])\n",
    "    replication_count = int(parts[-1].split(\".\")[0])\n",
    "\n",
    "    with open(network_file, 'r') as f:\n",
    "        s = f.read();\n",
    "        s = s.split(\"\\n\")\n",
    "        s = [int(a.split(\"/\")[0]) for a in s if (a != \"\" and a[-2:] == \"/s\")]\n",
    "        average_throughput = sum(s) / len(s)\n",
    "\n",
    "        throughputs[server_count-1, replication_count-1] = average_throughput\n",
    "\n",
    "throughputs[throughputs == 0] = np.nan\n",
    "throughputs"
   ]
  },
  {
   "cell_type": "code",
   "execution_count": null,
   "metadata": {},
   "outputs": [],
   "source": [
    "import matplotlib.pyplot as plt\n",
    "\n",
    "plt.figure(figsize=(7,7))\n",
    "plt.imshow(throughputs, extent=[0.5,5.5,0.5,5.5], origin=\"lower\")\n",
    "plt.xlabel(\"Replication Factor\")\n",
    "plt.ylabel(\"Server Count\")\n",
    "cbar = plt.colorbar()\n",
    "cbar.ax.set_ylabel(\"Throughput [Requests / Second]\", rotation=270, labelpad=15)\n",
    "plt.title(\"Client Write Request Throughput vs. Server Count\\nand Replication Factor\")"
   ]
  },
  {
   "cell_type": "code",
   "execution_count": null,
   "metadata": {},
   "outputs": [],
   "source": [
    "np.nanmean(throughputs, axis=0)"
   ]
  },
  {
   "cell_type": "code",
   "execution_count": null,
   "metadata": {},
   "outputs": [],
   "source": [
    "from glob import glob\n",
    "all_network_files = glob(\"../results/distrubted_stress_read**\")\n",
    "len(all_network_files)"
   ]
  },
  {
   "cell_type": "code",
   "execution_count": null,
   "metadata": {},
   "outputs": [],
   "source": [
    "import numpy as np\n",
    "\n",
    "throughputs = np.zeros((5,5))\n",
    "\n",
    "for network_file in all_network_files:\n",
    "    parts = network_file.split(\"_\")\n",
    "    server_count = int(parts[-2])\n",
    "    replication_count = int(parts[-1].split(\".\")[0])\n",
    "\n",
    "    with open(network_file, 'r') as f:\n",
    "        s = f.read();\n",
    "        s = s.split(\"\\n\")\n",
    "        s = [int(a.split(\"/\")[0]) for a in s if (a != \"\" and a[-2:] == \"/s\")]\n",
    "        average_throughput = (sum(s) / len(s)) if (len(s) != 0) else 0\n",
    "\n",
    "        throughputs[server_count-1, replication_count-1] = average_throughput\n",
    "\n",
    "throughputs[throughputs == 0] = np.nan\n",
    "throughputs"
   ]
  },
  {
   "cell_type": "code",
   "execution_count": null,
   "metadata": {},
   "outputs": [],
   "source": [
    "import matplotlib.pyplot as plt\n",
    "\n",
    "plt.figure(figsize=(7,7))\n",
    "plt.imshow(throughputs, extent=[0.5,5.5,0.5,5.5], origin=\"lower\")\n",
    "plt.xlabel(\"Replication Factor\")\n",
    "plt.ylabel(\"Server Count\")\n",
    "cbar = plt.colorbar()\n",
    "cbar.ax.set_ylabel(\"Throughput [Requests / Second]\", rotation=270, labelpad=15)\n",
    "plt.title(\"Client Read Request Throughput vs. Server Count\\nand Replication Factor\")"
   ]
  },
  {
   "cell_type": "code",
   "execution_count": null,
   "metadata": {},
   "outputs": [],
   "source": [
    "from glob import glob\n",
    "all_network_files = glob(\"../results/distributed_stress_server_client_**\")\n",
    "len(all_network_files)"
   ]
  },
  {
   "cell_type": "code",
   "execution_count": null,
   "metadata": {},
   "outputs": [],
   "source": [
    "import numpy as np\n",
    "\n",
    "throughputs = np.zeros((5,5))\n",
    "\n",
    "for network_file in all_network_files:\n",
    "    parts = network_file.split(\"_\")\n",
    "    server_count = int(parts[-2])\n",
    "    client_count = int(parts[-1].split(\".\")[0])\n",
    "\n",
    "    with open(network_file, 'r') as f:\n",
    "        s = f.read();\n",
    "        s = s.split(\"\\n\")\n",
    "        s = [int(a.split(\"/\")[0]) for a in s if (a.split(\"/\")[0].strip() != \"\" and a[-2:] == \"/s\")]\n",
    "        average_throughput = (sum(s) / len(s)) if (len(s) != 0) else 0\n",
    "\n",
    "        throughputs[(server_count-1), (client_count-1)//100] = average_throughput\n",
    "\n",
    "# throughputs[throughputs == 0] = np.nan\n",
    "throughputs"
   ]
  },
  {
   "cell_type": "code",
   "execution_count": null,
   "metadata": {},
   "outputs": [],
   "source": [
    "import matplotlib.pyplot as plt\n",
    "\n",
    "plt.figure(figsize=(7,7))\n",
    "plt.imshow(throughputs, extent=[50,550,0.5,5.5,], origin=\"lower\", aspect=\"auto\")\n",
    "plt.xlabel(\"Client Count\")\n",
    "plt.ylabel(\"Server Count\")\n",
    "cbar = plt.colorbar()\n",
    "cbar.ax.set_ylabel(\"Throughput [Requests / Second]\", rotation=270, labelpad=15)\n",
    "plt.title(\"Client Read Request Throughput vs. Server Count\\nand Client Count\")"
   ]
  },
  {
   "cell_type": "code",
   "execution_count": null,
   "metadata": {},
   "outputs": [],
   "source": []
  },
  {
   "cell_type": "code",
   "execution_count": null,
   "metadata": {},
   "outputs": [],
   "source": []
  }
 ],
 "metadata": {
  "kernelspec": {
   "display_name": "Python 3",
   "language": "python",
   "name": "python3"
  },
  "language_info": {
   "codemirror_mode": {
    "name": "ipython",
    "version": 3
   },
   "file_extension": ".py",
   "mimetype": "text/x-python",
   "name": "python",
   "nbconvert_exporter": "python",
   "pygments_lexer": "ipython3",
   "version": "3.10.12"
  }
 },
 "nbformat": 4,
 "nbformat_minor": 2
}
